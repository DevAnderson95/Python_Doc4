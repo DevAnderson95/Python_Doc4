{
 "cells": [
  {
   "cell_type": "markdown",
   "metadata": {},
   "source": [
    "# Object-Oriented-Programming (OOP)"
   ]
  },
  {
   "cell_type": "markdown",
   "metadata": {},
   "source": [
    "## Tasks Today:\n",
    "\n",
    "   \n",
    "\n",
    "1) <b>Creating a Class (Initializing/Declaring)</b> <br>\n",
    "2) <b>Using a Class (Instantiating)</b> <br>\n",
    " &nbsp;&nbsp;&nbsp;&nbsp; a) Creating One Instance <br>\n",
    " &nbsp;&nbsp;&nbsp;&nbsp; b) Creating Multiple Instances <br>\n",
    " &nbsp;&nbsp;&nbsp;&nbsp; c) In-Class Exercise #1 - Create a Class 'Car' and instantiate three different makes of cars <br>\n",
    "3) <b>The \\__init\\__() Method</b> <br>\n",
    " &nbsp;&nbsp;&nbsp;&nbsp; a) The 'self' Attribute <br>\n",
    "4) <b>Class Attributes</b> <br>\n",
    " &nbsp;&nbsp;&nbsp;&nbsp; a) Initializing Attributes <br>\n",
    " &nbsp;&nbsp;&nbsp;&nbsp; b) Setting an Attribute Outside of the \\__init\\__() Method <br>\n",
    " &nbsp;&nbsp;&nbsp;&nbsp; c) Setting Defaults for Attributes <br>\n",
    " &nbsp;&nbsp;&nbsp;&nbsp; d) Accessing Class Attributes <br>\n",
    " &nbsp;&nbsp;&nbsp;&nbsp; e) Changing Class Attributes <br>\n",
    " &nbsp;&nbsp;&nbsp;&nbsp; f) In-Class Exercise #2 - Add a color and wheels attribute to your 'Car' class <br>\n",
    "5) <b>Class Methods</b> <br>\n",
    " &nbsp;&nbsp;&nbsp;&nbsp; a) Creating <br>\n",
    " &nbsp;&nbsp;&nbsp;&nbsp; b) Calling <br>\n",
    " &nbsp;&nbsp;&nbsp;&nbsp; c) Modifying an Attribute's Value Through a Method <br>\n",
    " &nbsp;&nbsp;&nbsp;&nbsp; d) Incrementing an Attribute's Value Through a Method <br>\n",
    " &nbsp;&nbsp;&nbsp;&nbsp; e) In-Class Exercise #3 - Add a method that prints the cars color and wheel number, then call them <br>\n",
    "6) <b>Inheritance</b> <br>\n",
    " &nbsp;&nbsp;&nbsp;&nbsp; a) Syntax for Inheriting from a Parent Class <br>\n",
    " &nbsp;&nbsp;&nbsp;&nbsp; b) The \\__init\\__() Method for a Child Class (super()) <br>\n",
    " &nbsp;&nbsp;&nbsp;&nbsp; c) Defining Attributes and Methods for the Child Class <br>\n",
    " &nbsp;&nbsp;&nbsp;&nbsp; d) Method Overriding <br>\n",
    " &nbsp;&nbsp;&nbsp;&nbsp; e) In-Class Exercise #4 - Create a class 'Ford' that inherits from 'Car' class and initialize it as a Blue Ford Explorer with 4 wheels using the super() method <br>\n",
    "7) <b>Classes as Attributes</b> <br>\n",
    "8) <b>Exercises</b> <br>\n",
    " &nbsp;&nbsp;&nbsp;&nbsp; a) Exercise #1 - Turn the shopping cart program from yesterday into an object-oriented program <br>"
   ]
  },
  {
   "cell_type": "markdown",
   "metadata": {},
   "source": [
    "## Creating a Class (Initializing/Declaring)\n",
    "<p>When creating a class, function, or even a variable you are initializing that object. Initializing and Declaring occur at the same time in Python, whereas in lower level languages you have to declare an object before initializing it. This is the first step in the process of using a class.</p>"
   ]
  },
  {
   "cell_type": "code",
   "execution_count": 9,
   "metadata": {},
   "outputs": [],
   "source": [
    "class Car():\n",
    "    wheels = 4\n",
    "    color = 'blue'\n",
    "    windshield_wipers = 'wee woo wee woo'"
   ]
  },
  {
   "cell_type": "markdown",
   "metadata": {},
   "source": [
    "## Using a Class (Instantiating)\n",
    "<p>The process of creating a class is called <i>Instantiating</i>. Each time you create a variable of that type of class, it is referred to as an <i>Instance</i> of that class. This is the second step in the process of using a class.</p>"
   ]
  },
  {
   "cell_type": "markdown",
   "metadata": {},
   "source": [
    "##### Creating One Instance"
   ]
  },
  {
   "cell_type": "code",
   "execution_count": 10,
   "metadata": {},
   "outputs": [
    {
     "name": "stdout",
     "output_type": "stream",
     "text": [
      "wee woo wee woo\n"
     ]
    }
   ],
   "source": [
    "ford = Car()\n",
    "print(ford.windshield_wipers)"
   ]
  },
  {
   "cell_type": "markdown",
   "metadata": {},
   "source": [
    "##### Creating Multiple Instances"
   ]
  },
  {
   "cell_type": "code",
   "execution_count": 20,
   "metadata": {},
   "outputs": [
    {
     "name": "stdout",
     "output_type": "stream",
     "text": [
      "<class 'str'>\n",
      "black\n"
     ]
    }
   ],
   "source": [
    "chevrolet = Car()\n",
    "honda = Car()\n",
    "porshe = Car()\n",
    "\n",
    "print(type(porshe.color))\n",
    "print(porshe.bumper)"
   ]
  },
  {
   "cell_type": "markdown",
   "metadata": {},
   "source": [
    "##### In-Class Exercise #1 - Create a Class 'Car' and Instantiate three different makes of cars"
   ]
  },
  {
   "cell_type": "code",
   "execution_count": 19,
   "metadata": {},
   "outputs": [
    {
     "name": "stdout",
     "output_type": "stream",
     "text": [
      "black\n",
      "silver\n",
      "4\n",
      "4\n"
     ]
    }
   ],
   "source": [
    "class Car():\n",
    "    doors = 4\n",
    "    color = 'silver'\n",
    "    bumper = 'black'\n",
    "    wheels = 4\n",
    "    \n",
    "    \n",
    "toyota = Car()\n",
    "lexus = Car()\n",
    "subaru = Car()\n",
    "tesla = Car()\n",
    "\n",
    "\n",
    "print(subaru.bumper)\n",
    "print(subaru.color)\n",
    "print(toyota.wheels)\n",
    "print(lexus.doors)"
   ]
  },
  {
   "cell_type": "markdown",
   "metadata": {},
   "source": [
    "## The \\__init\\__() Method <br>\n",
    "<p>This method is used in almost every created class, and called only once upon the creation of the class instance. This method will initialize all variables needed for the object.</p>"
   ]
  },
  {
   "cell_type": "code",
   "execution_count": 24,
   "metadata": {},
   "outputs": [
    {
     "name": "stdout",
     "output_type": "stream",
     "text": [
      "black\n",
      "blue\n",
      "6\n",
      "4\n"
     ]
    }
   ],
   "source": [
    "class Car():\n",
    "    engine = '4.7L' #Global within class - any method inside the class can call upon this variable\n",
    "    \n",
    "    def __init__(self, color, wheels):\n",
    "        self.color = color\n",
    "        self.wheels = wheels\n",
    "    \n",
    "    \n",
    "\n",
    "mazda = Car('black',4)\n",
    "subaru = Car('blue',6)\n",
    "\n",
    "print(mazda.color)\n",
    "print(subaru.color)\n",
    "print(subaru.wheels)\n",
    "print(mazda.wheels)"
   ]
  },
  {
   "cell_type": "markdown",
   "metadata": {},
   "source": [
    "##### The 'self' Attribute <br>\n",
    "<p>This attribute is required to keep track of specific instance's attributes. Without the self attribute, the program would not know how to reference or keep track of an instance's attributes.</p>"
   ]
  },
  {
   "cell_type": "code",
   "execution_count": 3,
   "metadata": {},
   "outputs": [
    {
     "name": "stdout",
     "output_type": "stream",
     "text": [
      "no\n"
     ]
    },
    {
     "data": {
      "text/plain": [
       "'why on earth would you not want a rock climbing wall in your house?'"
      ]
     },
     "execution_count": 3,
     "metadata": {},
     "output_type": "execute_result"
    }
   ],
   "source": [
    "# see above\n",
    "\n",
    "class House():\n",
    "    \n",
    "    def __init__(self, wall, dishes):\n",
    "        self.wall = wall\n",
    "        self.dishes = dishes\n",
    "        \n",
    "    def washDishes(self):\n",
    "        if self.dishes.lower() == 'dirty':\n",
    "            print(self.wall)\n",
    "        \n",
    "    def rockClimbingWall(self):\n",
    "        if self.wall.lower() == 'yes':\n",
    "            return 'rock on,  climber!'\n",
    "        else:\n",
    "            return 'why on earth would you not want a rock climbing wall in your house?'\n",
    "        \n",
    "Devons_House = House('no','dirty')\n",
    "\n",
    "Devons_House.washDishes()\n",
    "\n",
    "Devons_House.rockClimbingWall()\n",
    "    \n",
    "    "
   ]
  },
  {
   "cell_type": "markdown",
   "metadata": {},
   "source": [
    "## Class Attributes <br>\n",
    "<p>While variables are inside of a class, they are referred to as attributes and not variables. When someone says 'attribute' you know they're speaking about a class. Attributes can be initialized through the init method, or outside of it.</p>"
   ]
  },
  {
   "cell_type": "markdown",
   "metadata": {},
   "source": [
    "##### Initializing Attributes"
   ]
  },
  {
   "cell_type": "code",
   "execution_count": 4,
   "metadata": {},
   "outputs": [
    {
     "name": "stdout",
     "output_type": "stream",
     "text": [
      "<__main__.Toy object at 0x1066db350>\n"
     ]
    }
   ],
   "source": [
    "# see above\n",
    "\n",
    "class Toy():\n",
    "    kind = 'car' #This is called a constant \n",
    "    \n",
    "    \n",
    "    def __init__(self, rooftop, horn, wheels):\n",
    "        self.rooftop = rooftop # These are our attributes\n",
    "        self.horn = horn\n",
    "        self.wheels = wheels\n",
    "        \n",
    "tonka_truck = Toy(1, 1, 4) # 1 Rooftop 1 Horn 4 Wheels\n",
    "hotwheels_car = Toy(2, 3, 8)# 2 Rooftops 3 Horns 8 Wheels\\|||||||||||\n",
    "\n"
   ]
  },
  {
   "cell_type": "markdown",
   "metadata": {},
   "source": [
    "##### Accessing Class Attributes"
   ]
  },
  {
   "cell_type": "code",
   "execution_count": 5,
   "metadata": {
    "scrolled": true
   },
   "outputs": [
    {
     "data": {
      "text/plain": [
       "8"
      ]
     },
     "execution_count": 5,
     "metadata": {},
     "output_type": "execute_result"
    }
   ],
   "source": [
    "# See Above\n",
    "\n",
    "tonka_truck.rooftop\n",
    "hotwheels_car.wheels"
   ]
  },
  {
   "cell_type": "markdown",
   "metadata": {},
   "source": [
    "##### Setting Defaults for Attributes"
   ]
  },
  {
   "cell_type": "code",
   "execution_count": 10,
   "metadata": {},
   "outputs": [
    {
     "data": {
      "text/plain": [
       "'4.7 L'"
      ]
     },
     "execution_count": 10,
     "metadata": {},
     "output_type": "execute_result"
    }
   ],
   "source": [
    "class Car():\n",
    "    engine = '4.7 L' #This is a constant \n",
    "    \n",
    "    def __init__(self,wheels):\n",
    "        self.wheels = wheels \n",
    "        self.color = 'Blue'\n",
    "        \n",
    "        \n",
    "honda = Car(4)\n",
    "honda.color\n",
    "honda.engine"
   ]
  },
  {
   "cell_type": "markdown",
   "metadata": {},
   "source": [
    "##### Changing Class Attributes <br>\n",
    "<p>Keep in mind there are global class attributes and then there are attributes only available to each class instance which won't effect other classes.</p>"
   ]
  },
  {
   "cell_type": "code",
   "execution_count": 5,
   "metadata": {},
   "outputs": [
    {
     "name": "stdout",
     "output_type": "stream",
     "text": [
      "Before Change: Blue\n",
      "\n",
      " After Change: White\n",
      "Blue\n"
     ]
    }
   ],
   "source": [
    "jeep = Car(8)\n",
    "\n",
    "print(f'Before Change: {jeep.color}')\n",
    "      \n",
    "jeep.color = 'White'\n",
    "      \n",
    "    \n",
    "print(f'\\n After Change: {jeep.color}')\n",
    "print(honda.color)\n",
    "      \n"
   ]
  },
  {
   "cell_type": "code",
   "execution_count": null,
   "metadata": {},
   "outputs": [],
   "source": []
  },
  {
   "cell_type": "markdown",
   "metadata": {},
   "source": [
    "##### In-Class Exercise #2 - Add a doors and seats attribute to your 'Car' class then print out two different instances with different doors and seats"
   ]
  },
  {
   "cell_type": "code",
   "execution_count": 14,
   "metadata": {},
   "outputs": [
    {
     "name": "stdout",
     "output_type": "stream",
     "text": [
      "Toyota seats: 2 and Toyota doors: 2\n",
      "Porsche seats: 4 and Porsche Doors: 4\n"
     ]
    }
   ],
   "source": [
    "class Car():\n",
    "    \n",
    "    def __init__(self, doors, seats = 4):\n",
    "        self.doors = doors\n",
    "        self.seats = seats \n",
    "        \n",
    "        \n",
    "toyota = Car(2,2)\n",
    "porsche = Car(4,4)\n",
    "\n",
    "print(f'Toyota seats: {toyota.seats} and Toyota doors: {toyota.doors}')\n",
    "print(f'Porsche seats: {porsche.seats} and Porsche Doors: {porsche.doors}')"
   ]
  },
  {
   "cell_type": "markdown",
   "metadata": {},
   "source": [
    "## Class Methods <br>\n",
    "<p>While inside of a class, functions are referred to as 'methods'. If you hear someone mention methods, they're speaking about classes. Methods are essentially functions, but only callable on the instances of a class.</p>"
   ]
  },
  {
   "cell_type": "markdown",
   "metadata": {},
   "source": [
    "##### Creating"
   ]
  },
  {
   "cell_type": "code",
   "execution_count": 8,
   "metadata": {},
   "outputs": [],
   "source": [
    "class ShoppingBag():\n",
    "    \"\"\"\n",
    "        The ShoppingBag class will have handles, capacity,\n",
    "        and items to place inside. \n",
    "        \n",
    "        \n",
    "        Attributes for the class:\n",
    "        - handles: expected to be an integer \n",
    "        - capacity: expected to be an integer OR a string \n",
    "        - items: expected to be a list \n",
    "    \"\"\"\n",
    "    \n",
    "    def __init__(self, handles, capacity, items):\n",
    "        self.handles = handles\n",
    "        self.capacity = capacity \n",
    "        self.items = items\n",
    "        \n",
    "    # Write a method that shows the items in our ShoppingBag \\ This is our item list \n",
    "    \n",
    "    def showShoppingBag(self):\n",
    "        print(\"You have items in your bag!\")\n",
    "        for items in self.items:\n",
    "            print(items)\n",
    "            \n",
    "    # Show the capacity of ShoppingBag - How much space is left \n",
    "    \n",
    "    def showCapacity(self):\n",
    "        print(f'Your capacity is: {self.capacity}')\n",
    "        \n",
    "    # Add item(s) to list ShoppingBag\n",
    "    \n",
    "    def addToShoppingBag(self):\n",
    "        products = input(\"What would you like to add?: \")\n",
    "        self.items.append(products)\n",
    "        \n",
    "        \n",
    "     # Change the capacity of the ShoppingBag\n",
    "    \n",
    "    def changeBagCapacity(self, capacity):\n",
    "        self.capacity = capacity \n",
    "        \n",
    "        \n",
    "        \n",
    "# Increase the capacity of the ShoppingBag by a default amount we set to 10\n",
    "\n",
    "\n",
    "    def increaseCapacity(self, changed_capacity = 10):\n",
    "        if self.capacity == isinstance(self.capacity, str):\n",
    "            print(\"We cant add that here \")\n",
    "        else:\n",
    "            self.capacity += changed_capacity\n",
    "        \n",
    "    \n",
    "    "
   ]
  },
  {
   "cell_type": "markdown",
   "metadata": {},
   "source": [
    "##### Calling"
   ]
  },
  {
   "cell_type": "code",
   "execution_count": 15,
   "metadata": {},
   "outputs": [
    {
     "name": "stdout",
     "output_type": "stream",
     "text": [
      "Main Menu: Add/Show/Quit:add\n",
      "What would you like to add?: milk\n",
      "Main Menu: Add/Show/Quit:quit\n",
      "You have items in your bag!\n",
      "milk\n",
      "Thanks for shopping with us !\n"
     ]
    }
   ],
   "source": [
    "# See Above\n",
    "\n",
    "#So far we created the idea of the ShoppingBag; now we will actually instatiate and MAKE one and use it\n",
    "\n",
    "wholeFoods_bag = ShoppingBag(2, 10, [])\n",
    "\n",
    "# Create a function to run the ShoppingBag methods on our wholeFoods_bag instance \n",
    "\n",
    "def run():\n",
    "    while True:\n",
    "        response = input(\"Main Menu: Add/Show/Quit:\")\n",
    "        \n",
    "        if response.lower() == 'quit':\n",
    "            wholeFoods_bag.showShoppingBag()\n",
    "            print(\"Thanks for shopping with us !\")\n",
    "            break\n",
    "        elif response.lower() == 'add':\n",
    "            wholeFoods_bag.addToShoppingBag()\n",
    "        elif response.lower() == 'show':\n",
    "            wholeFoods_bag.showShoppingBag()\n",
    "        else:\n",
    "            print(\"Try another option \")\n",
    "            \n",
    "\n",
    "            \n",
    "        \n",
    "run()"
   ]
  },
  {
   "cell_type": "markdown",
   "metadata": {},
   "source": [
    "##### Modifying an Attribute's Value Through a Method"
   ]
  },
  {
   "cell_type": "code",
   "execution_count": 16,
   "metadata": {},
   "outputs": [
    {
     "name": "stdout",
     "output_type": "stream",
     "text": [
      "Your capacity is: 10\n",
      "Capacity AFTER the change... \n",
      "Your capacity is: 40\n"
     ]
    }
   ],
   "source": [
    "# Show the capacity\n",
    "wholeFoods_bag.showCapacity()\n",
    "print(\"Capacity AFTER the change... \")\n",
    "wholeFoods_bag.changeBagCapacity(40)\n",
    "wholeFoods_bag.showCapacity()"
   ]
  },
  {
   "cell_type": "markdown",
   "metadata": {},
   "source": [
    "##### Incrementing an Attribute's Value Through a Method"
   ]
  },
  {
   "cell_type": "code",
   "execution_count": 17,
   "metadata": {},
   "outputs": [
    {
     "name": "stdout",
     "output_type": "stream",
     "text": [
      "Your capacity is: 40\n",
      "After increase...\n",
      "Your capacity is: 50\n"
     ]
    }
   ],
   "source": [
    "wholeFoods_bag.showCapacity()\n",
    "print(\"After increase...\")\n",
    "wholeFoods_bag.increaseCapacity()\n",
    "wholeFoods_bag.showCapacity()"
   ]
  },
  {
   "cell_type": "markdown",
   "metadata": {},
   "source": [
    "##### In-Class Exercise #3 - Add a method that takes in three parameters of year, doors and seats and prints out a formatted print statement with make, model, year, seats, and doors"
   ]
  },
  {
   "cell_type": "code",
   "execution_count": 1,
   "metadata": {},
   "outputs": [
    {
     "name": "stdout",
     "output_type": "stream",
     "text": [
      "This car is from 2016 and is a Chevy Cruze, It has 4 doors and 5 seats.\n"
     ]
    }
   ],
   "source": [
    "# Create class with 2 paramters inside of the __init__ which are make and model\n",
    "\n",
    "# Inside of the Car class create a method that has 4 parameter in total (self,year,door,seats)\n",
    "\n",
    "# Output: This car is from 2019 and is a Ford Expolorer and has 4 doors and 5 seats\n",
    "\n",
    "class Car():\n",
    "\n",
    "        \n",
    "    def __init__(self,make,model):\n",
    "        self.make = make \n",
    "        self.model = model\n",
    "        \n",
    "        \n",
    "\n",
    "    def car_Info(self,year,doors,seats):\n",
    "        self.year = year \n",
    "        self.doors = doors \n",
    "        self.seats = seats \n",
    "\n",
    "    def __str__(self):\n",
    "        return f\"This car is from {self.year} and is a {self.make} {self.model}, It has {self.doors} doors and {self.seats} seats.\"\n",
    "\n",
    "my_car = Car('Chevy','Cruze')\n",
    "    \n",
    "\n",
    "my_car.car_Info(2016,4,5)\n",
    "\n",
    "print(my_car)"
   ]
  },
  {
   "cell_type": "markdown",
   "metadata": {},
   "source": [
    "## Inheritance <br>\n",
    "<p>You can create a child-parent relationship between two classes by using inheritance. What this allows you to do is have overriding methods, but also inherit traits from the parent class. Think of it as an actual parent and child, the child will inherit the parent's genes, as will the classes in OOP</p>"
   ]
  },
  {
   "cell_type": "markdown",
   "metadata": {},
   "source": [
    "##### Syntax for Inheriting from a Parent Class"
   ]
  },
  {
   "cell_type": "code",
   "execution_count": 13,
   "metadata": {},
   "outputs": [
    {
     "name": "stdout",
     "output_type": "stream",
     "text": [
      "bark\n",
      "Make some generic sound\n",
      "None\n",
      "9.8\n"
     ]
    },
    {
     "data": {
      "text/plain": [
       "15"
      ]
     },
     "execution_count": 13,
     "metadata": {},
     "output_type": "execute_result"
    }
   ],
   "source": [
    "# Create a parent class \n",
    "\n",
    "# OOP = Object Oriented Project\n",
    "\n",
    "class Animal():\n",
    "    \n",
    "    acceleration = 9.8\n",
    "    \n",
    "    def __init__(self,name,species,legs = 4):\n",
    "        self.name = name \n",
    "        self.species = species\n",
    "        self.legs = legs\n",
    "        \n",
    "        \n",
    "# Generic Parent Method (This DOES NOT override anything.)\n",
    "\n",
    "    def makeSound(self):\n",
    "        print(\"Make some generic sound\")\n",
    "\n",
    "        \n",
    "class Dog(Animal):\n",
    "    speed = 15\n",
    "    \n",
    "    def printInfo(self):\n",
    "        print(f\"The Dog has {self.speed}mph in speed and {self.acceleration}\")\n",
    "        \n",
    "    \n",
    "# Creating our Grand-Child Class - Mutt\n",
    "\n",
    "class Mutt(Dog):\n",
    "    \n",
    "    color = 'Tan'\n",
    "\n",
    "    \n",
    "# Override the Animal class -- using the Dog class to overwrite the __init__ from Animal\n",
    "\n",
    "    def __init__(self, name, species, eye_color, legs = 4):\n",
    "        \n",
    "        Dog.__init__(self, name, species, legs)\n",
    "        self.eye_color = eye_color \n",
    "        \n",
    "        \n",
    "# Override the makeSound method(which is coming from Animal)\n",
    "\n",
    "    def makeSound(self):\n",
    "        noise = 'bark'\n",
    "        return noise \n",
    "\n",
    "lassie = Dog('Lassie', 'Dog')\n",
    "\n",
    "basic_animal = Animal('Generic Animal Name','Generic Animal Species')\n",
    "\n",
    "buster = Mutt('Buster', 'Mut', 'Brown')\n",
    "\n",
    "print(buster.makeSound())\n",
    "print(lassie.makeSound())\n",
    "print(buster.acceleration)\n",
    "#basic_animal.speed\n",
    "buster.speed\n"
   ]
  },
  {
   "cell_type": "markdown",
   "metadata": {},
   "source": [
    "##### The \\__init\\__() Method for a Child Class - super()"
   ]
  },
  {
   "cell_type": "code",
   "execution_count": 31,
   "metadata": {
    "scrolled": true
   },
   "outputs": [
    {
     "name": "stdout",
     "output_type": "stream",
     "text": [
      "bark\n",
      "Make some generic sound\n",
      "None\n",
      "9.8\n"
     ]
    },
    {
     "data": {
      "text/plain": [
       "15"
      ]
     },
     "execution_count": 31,
     "metadata": {},
     "output_type": "execute_result"
    }
   ],
   "source": [
    "class Mutt(Dog):\n",
    "    color = 'black and brown'\n",
    "    \n",
    "# Override the Animal class __init__(via Dog class)     \n",
    "    def __init__(self, name, species, eye_color, legs = 4):\n",
    "        super().__init__(name, species, legs)\n",
    "        self.eye_color = eye_color \n",
    "        \n",
    "    # Override the makeSound method\n",
    "    def makeSound(self):\n",
    "        noise = 'bark'\n",
    "        return noise \n",
    "\n",
    "lassie = Dog('Lassie', 'Dog')\n",
    "\n",
    "basic_animal = Animal('Generic Animal Name','Generic Animal Species')\n",
    "\n",
    "buster = Mutt('Buster', 'Mut', 'Brown')\n",
    "\n",
    "print(buster.makeSound())\n",
    "print(lassie.makeSound())\n",
    "print(buster.acceleration)\n",
    "#basic_animal.speed\n",
    "buster.speed\n"
   ]
  },
  {
   "cell_type": "markdown",
   "metadata": {},
   "source": [
    "##### Defining Attributes and Methods for the Child Class"
   ]
  },
  {
   "cell_type": "code",
   "execution_count": null,
   "metadata": {},
   "outputs": [],
   "source": [
    "# See Above"
   ]
  },
  {
   "cell_type": "markdown",
   "metadata": {},
   "source": [
    "##### Method Overriding"
   ]
  },
  {
   "cell_type": "code",
   "execution_count": null,
   "metadata": {},
   "outputs": [],
   "source": [
    "# See Above"
   ]
  },
  {
   "cell_type": "markdown",
   "metadata": {},
   "source": [
    "## Classes as Attributes <br>\n",
    "<p>Classes can also be used as attributes within another class. This is useful in situations where you need to keep variables locally stored, instead of globally stored.</p>"
   ]
  },
  {
   "cell_type": "code",
   "execution_count": 42,
   "metadata": {},
   "outputs": [
    {
     "name": "stdout",
     "output_type": "stream",
     "text": [
      "20\n"
     ]
    },
    {
     "data": {
      "text/plain": [
       "'2019 Tesla Model X 20'"
      ]
     },
     "execution_count": 42,
     "metadata": {},
     "output_type": "execute_result"
    }
   ],
   "source": [
    "class Battery():\n",
    "    volts = 7.8 \n",
    "    \n",
    "    \n",
    "    def __init__(self,cells):\n",
    "        self.cells = cells\n",
    "        \n",
    "        \n",
    "\n",
    "class Car():\n",
    "    def __init__(self,year,make,model,battery):\n",
    "        self.year = year \n",
    "        self.make = make \n",
    "        self.model = model \n",
    "        self.battery = battery \n",
    "        \n",
    "    def printInfo(self):\n",
    "        return f'{self.year} {self.make} {self.model} {self.battery.cells}'\n",
    "        \n",
    "    \n",
    "my_battery = Battery(20)\n",
    "\n",
    "\n",
    "tesla = Car(2019, 'Tesla', 'Model X', my_battery)\n",
    "\n",
    "print(tesla.battery.cells)\n",
    "tesla.printInfo()\n"
   ]
  },
  {
   "cell_type": "markdown",
   "metadata": {},
   "source": [
    "# Exercises"
   ]
  },
  {
   "cell_type": "markdown",
   "metadata": {},
   "source": [
    "### Exercise 1 - Turn the shopping cart program from yesterday into an object-oriented program\n",
    "\n",
    "The comments in the cell below are there as a guide for thinking about the problem. However, if you feel a different way is best for you and your own thought process, please do what feels best for you by all means."
   ]
  },
  {
   "cell_type": "code",
   "execution_count": 2,
   "metadata": {},
   "outputs": [
    {
     "name": "stdout",
     "output_type": "stream",
     "text": [
      "milk added to cart.\n",
      "eggs added to cart.\n",
      "Items in cart: \n",
      "- milk\n",
      "- eggs\n",
      "juice added to cart.\n",
      "milk removed from cart.\n",
      "Items in cart: \n",
      "- eggs\n",
      "- juice\n"
     ]
    }
   ],
   "source": [
    "# Create a class called cart that retains items and has methods to add, remove, and show\n",
    "\n",
    "class Cart():\n",
    "    def __init__(self):\n",
    "        self.items = []\n",
    "\n",
    "    def add_Item(self,item):\n",
    "        self.items.append(item)\n",
    "        print(f'{item} added to cart.')\n",
    "\n",
    "    def remove_item(self,item):\n",
    "        if item in self.items:\n",
    "            self.items.remove(item)\n",
    "            print(f'{item} removed from cart.')\n",
    "    \n",
    "    def show_items(self):\n",
    "        if self.items:\n",
    "            print(\"Items in cart: \")\n",
    "            for item in self.items:\n",
    "                print(f'- {item}')\n",
    "        else:\n",
    "            print(\"Your cart is empty.\")\n",
    "\n",
    "my_cart = Cart()\n",
    "\n",
    "my_cart.add_Item('milk')\n",
    "my_cart.add_Item('eggs')\n",
    "my_cart.show_items()\n",
    "my_cart.add_Item('juice')\n",
    "my_cart.remove_item('milk')\n",
    "my_cart.show_items()\n",
    "        \n",
    "        \n",
    "    \n",
    "    \n",
    "    "
   ]
  },
  {
   "cell_type": "markdown",
   "metadata": {},
   "source": [
    "### Exercise 2 - Write a Python class which has two methods get_String and print_String. get_String accept a string from the user and print_String print the string in upper case"
   ]
  },
  {
   "cell_type": "code",
   "execution_count": null,
   "metadata": {},
   "outputs": [
    {
     "name": "stdout",
     "output_type": "stream",
     "text": [
      "Enter a string: \"hello world\"\n",
      "String in uppercase:  \"HELLO WORLD\"\n"
     ]
    }
   ],
   "source": [
    "class StringChange():\n",
    "    def __init__(self):\n",
    "        self.string = \" \"\n",
    "\n",
    "    def get_string(self):\n",
    "        self.string = input(\"Enter a string: \")\n",
    "\n",
    "    def print_string(self):\n",
    "        print(\"String in uppercase: \", self.string.upper())\n",
    "\n",
    "my_string = StringChange()\n",
    "my_string.get_string()\n",
    "my_string.print_string()\n",
    "\n",
    "my_string.get_string()\n"
   ]
  },
  {
   "cell_type": "code",
   "execution_count": null,
   "metadata": {},
   "outputs": [],
   "source": []
  }
 ],
 "metadata": {
  "kernelspec": {
   "display_name": "Python 3 (ipykernel)",
   "language": "python",
   "name": "python3"
  },
  "language_info": {
   "codemirror_mode": {
    "name": "ipython",
    "version": 3
   },
   "file_extension": ".py",
   "mimetype": "text/x-python",
   "name": "python",
   "nbconvert_exporter": "python",
   "pygments_lexer": "ipython3",
   "version": "3.11.3"
  }
 },
 "nbformat": 4,
 "nbformat_minor": 2
}
